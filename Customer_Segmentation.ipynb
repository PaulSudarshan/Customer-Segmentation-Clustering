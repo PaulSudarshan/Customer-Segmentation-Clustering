{
 "cells": [
  {
   "cell_type": "markdown",
   "metadata": {},
   "source": [
    "# Problem Statement\n",
    "Explore and identify different segments present in the customer transaction data.\n",
    "DataSet\n",
    "The dataset contains transactions on an e-commerce website between the period Feb 2018 to Feb 2019 from customers across different countries. \n",
    "\n",
    "File: transaction_data.csv\n",
    "Columns\n",
    "\n",
    "UserId \t\t\t\t- Unique identifier of a user.\n",
    "\n",
    "TransactionId \t\t\t- Unique identifier of a transaction. If the same TransactionId is present in multiple rows, then all those products are bought together in the same transaction.\n",
    "\n",
    "TransactionTime\t\t- Time at which the transaction is performed\n",
    "\n",
    "ItemCode\t\t\t- Unique identifier of the product purchased\n",
    "\n",
    "ItemDescription\t\t- Simple description of the product purchased\n",
    "\n",
    "NumberOfItemsPurchased\t- Quantity of the product purchased in the transaction\n",
    "\n",
    "CostPerItem\t\t\t- Price per each unit of the product\n",
    "\n",
    "Country\t\t\t- Country from which the purchase is made.\n"
   ]
  },
  {
   "cell_type": "markdown",
   "metadata": {},
   "source": [
    "## Importing Required Libraries."
   ]
  },
  {
   "cell_type": "code",
   "execution_count": 62,
   "metadata": {},
   "outputs": [],
   "source": [
    "import pandas as pd\n",
    "import numpy as np\n",
    "import matplotlib.pyplot as plt\n",
    "import seaborn as sns"
   ]
  },
  {
   "cell_type": "code",
   "execution_count": 63,
   "metadata": {},
   "outputs": [],
   "source": [
    "df=pd.read_csv('Transaction_data.csv')"
   ]
  },
  {
   "cell_type": "code",
   "execution_count": 64,
   "metadata": {},
   "outputs": [
    {
     "data": {
      "text/html": [
       "<div>\n",
       "<style scoped>\n",
       "    .dataframe tbody tr th:only-of-type {\n",
       "        vertical-align: middle;\n",
       "    }\n",
       "\n",
       "    .dataframe tbody tr th {\n",
       "        vertical-align: top;\n",
       "    }\n",
       "\n",
       "    .dataframe thead th {\n",
       "        text-align: right;\n",
       "    }\n",
       "</style>\n",
       "<table border=\"1\" class=\"dataframe\">\n",
       "  <thead>\n",
       "    <tr style=\"text-align: right;\">\n",
       "      <th></th>\n",
       "      <th>UserId</th>\n",
       "      <th>TransactionId</th>\n",
       "      <th>TransactionTime</th>\n",
       "      <th>ItemCode</th>\n",
       "      <th>ItemDescription</th>\n",
       "      <th>NumberOfItemsPurchased</th>\n",
       "      <th>CostPerItem</th>\n",
       "      <th>Country</th>\n",
       "    </tr>\n",
       "  </thead>\n",
       "  <tbody>\n",
       "    <tr>\n",
       "      <th>0</th>\n",
       "      <td>278166</td>\n",
       "      <td>6355745</td>\n",
       "      <td>Sat Feb 02 12:50:00 IST 2019</td>\n",
       "      <td>465549</td>\n",
       "      <td>FAMILY ALBUM WHITE PICTURE FRAME</td>\n",
       "      <td>6</td>\n",
       "      <td>11.73</td>\n",
       "      <td>United Kingdom</td>\n",
       "    </tr>\n",
       "    <tr>\n",
       "      <th>1</th>\n",
       "      <td>337701</td>\n",
       "      <td>6283376</td>\n",
       "      <td>Wed Dec 26 09:06:00 IST 2018</td>\n",
       "      <td>482370</td>\n",
       "      <td>LONDON BUS COFFEE MUG</td>\n",
       "      <td>3</td>\n",
       "      <td>3.52</td>\n",
       "      <td>United Kingdom</td>\n",
       "    </tr>\n",
       "    <tr>\n",
       "      <th>2</th>\n",
       "      <td>267099</td>\n",
       "      <td>6385599</td>\n",
       "      <td>Fri Feb 15 09:45:00 IST 2019</td>\n",
       "      <td>490728</td>\n",
       "      <td>SET 12 COLOUR PENCILS DOLLY GIRL</td>\n",
       "      <td>72</td>\n",
       "      <td>0.90</td>\n",
       "      <td>France</td>\n",
       "    </tr>\n",
       "    <tr>\n",
       "      <th>3</th>\n",
       "      <td>380478</td>\n",
       "      <td>6044973</td>\n",
       "      <td>Fri Jun 22 07:14:00 IST 2018</td>\n",
       "      <td>459186</td>\n",
       "      <td>UNION JACK FLAG LUGGAGE TAG</td>\n",
       "      <td>3</td>\n",
       "      <td>1.73</td>\n",
       "      <td>United Kingdom</td>\n",
       "    </tr>\n",
       "    <tr>\n",
       "      <th>4</th>\n",
       "      <td>-1</td>\n",
       "      <td>6143225</td>\n",
       "      <td>Mon Sep 10 11:58:00 IST 2018</td>\n",
       "      <td>1733592</td>\n",
       "      <td>WASHROOM METAL SIGN</td>\n",
       "      <td>3</td>\n",
       "      <td>3.40</td>\n",
       "      <td>United Kingdom</td>\n",
       "    </tr>\n",
       "  </tbody>\n",
       "</table>\n",
       "</div>"
      ],
      "text/plain": [
       "   UserId  TransactionId               TransactionTime  ItemCode  \\\n",
       "0  278166        6355745  Sat Feb 02 12:50:00 IST 2019    465549   \n",
       "1  337701        6283376  Wed Dec 26 09:06:00 IST 2018    482370   \n",
       "2  267099        6385599  Fri Feb 15 09:45:00 IST 2019    490728   \n",
       "3  380478        6044973  Fri Jun 22 07:14:00 IST 2018    459186   \n",
       "4      -1        6143225  Mon Sep 10 11:58:00 IST 2018   1733592   \n",
       "\n",
       "                     ItemDescription  NumberOfItemsPurchased  CostPerItem  \\\n",
       "0   FAMILY ALBUM WHITE PICTURE FRAME                       6        11.73   \n",
       "1              LONDON BUS COFFEE MUG                       3         3.52   \n",
       "2  SET 12 COLOUR PENCILS DOLLY GIRL                       72         0.90   \n",
       "3        UNION JACK FLAG LUGGAGE TAG                       3         1.73   \n",
       "4                WASHROOM METAL SIGN                       3         3.40   \n",
       "\n",
       "          Country  \n",
       "0  United Kingdom  \n",
       "1  United Kingdom  \n",
       "2          France  \n",
       "3  United Kingdom  \n",
       "4  United Kingdom  "
      ]
     },
     "execution_count": 64,
     "metadata": {},
     "output_type": "execute_result"
    }
   ],
   "source": [
    "df.head()"
   ]
  },
  {
   "cell_type": "code",
   "execution_count": 65,
   "metadata": {},
   "outputs": [
    {
     "data": {
      "text/plain": [
       "(9999, 8)"
      ]
     },
     "execution_count": 65,
     "metadata": {},
     "output_type": "execute_result"
    }
   ],
   "source": [
    "df.shape"
   ]
  },
  {
   "cell_type": "code",
   "execution_count": 66,
   "metadata": {},
   "outputs": [
    {
     "data": {
      "text/plain": [
       "UserId                     0\n",
       "TransactionId              0\n",
       "TransactionTime            0\n",
       "ItemCode                   0\n",
       "ItemDescription           26\n",
       "NumberOfItemsPurchased     0\n",
       "CostPerItem                0\n",
       "Country                    0\n",
       "dtype: int64"
      ]
     },
     "execution_count": 66,
     "metadata": {},
     "output_type": "execute_result"
    }
   ],
   "source": [
    "df.isnull().sum()"
   ]
  },
  {
   "cell_type": "code",
   "execution_count": 67,
   "metadata": {},
   "outputs": [
    {
     "data": {
      "text/plain": [
       "array(['United Kingdom', 'France', 'Austria', 'Australia', 'EIRE',\n",
       "       'Portugal', 'Germany', 'Sweden', 'Cyprus', 'Spain', 'Japan',\n",
       "       'Belgium', 'Singapore', 'Denmark', 'Netherlands', 'Norway',\n",
       "       'Canada', 'Iceland', 'Switzerland', 'Poland', 'Finland',\n",
       "       'Hong Kong', 'Italy', 'Malta', 'Israel', 'Channel Islands',\n",
       "       'Unspecified', 'USA', 'Czech Republic', 'Lebanon', 'Brazil',\n",
       "       'European Community', 'Greece', 'RSA'], dtype=object)"
      ]
     },
     "execution_count": 67,
     "metadata": {},
     "output_type": "execute_result"
    }
   ],
   "source": [
    "df.Country.unique()"
   ]
  },
  {
   "cell_type": "markdown",
   "metadata": {},
   "source": [
    "## Replacing irrelevant UserID (-1) with 'Unknown_ID'."
   ]
  },
  {
   "cell_type": "code",
   "execution_count": 68,
   "metadata": {},
   "outputs": [],
   "source": [
    "df['UserId'].replace({-1:'Unknown_ID'},inplace=True)"
   ]
  },
  {
   "cell_type": "code",
   "execution_count": 69,
   "metadata": {},
   "outputs": [
    {
     "data": {
      "text/plain": [
       "34"
      ]
     },
     "execution_count": 69,
     "metadata": {},
     "output_type": "execute_result"
    }
   ],
   "source": [
    "df.Country.nunique()"
   ]
  },
  {
   "cell_type": "markdown",
   "metadata": {},
   "source": [
    "### Creating new feature of Year of Transaction (YOT) from TransactionTime (either 2018 or 2019)."
   ]
  },
  {
   "cell_type": "code",
   "execution_count": 70,
   "metadata": {},
   "outputs": [
    {
     "name": "stderr",
     "output_type": "stream",
     "text": [
      "C:\\ProgramData\\Anaconda3\\lib\\site-packages\\ipykernel_launcher.py:3: SettingWithCopyWarning: \n",
      "A value is trying to be set on a copy of a slice from a DataFrame\n",
      "\n",
      "See the caveats in the documentation: https://pandas.pydata.org/pandas-docs/stable/user_guide/indexing.html#returning-a-view-versus-a-copy\n",
      "  This is separate from the ipykernel package so we can avoid doing imports until\n"
     ]
    }
   ],
   "source": [
    "df['YOT']=0\n",
    "for i in range(len(df.TransactionTime)):\n",
    "    df['YOT'][i]= df.TransactionTime[i].split(' ')[5]"
   ]
  },
  {
   "cell_type": "markdown",
   "metadata": {},
   "source": [
    "### Creating new feature of  'total_spent'  by multiplying 'Numberofitemspurchased' and 'CostperItem'."
   ]
  },
  {
   "cell_type": "code",
   "execution_count": 71,
   "metadata": {},
   "outputs": [],
   "source": [
    "df['total_spent']=df['NumberOfItemsPurchased']*df['CostPerItem']"
   ]
  },
  {
   "cell_type": "code",
   "execution_count": 72,
   "metadata": {},
   "outputs": [
    {
     "data": {
      "text/plain": [
       "2018    7468\n",
       "2019    2478\n",
       "2028      53\n",
       "Name: YOT, dtype: int64"
      ]
     },
     "execution_count": 72,
     "metadata": {},
     "output_type": "execute_result"
    }
   ],
   "source": [
    "df.YOT.value_counts()"
   ]
  },
  {
   "cell_type": "markdown",
   "metadata": {},
   "source": [
    "### Replacing error year 2028 with 2018 in the column feature 'YOT'."
   ]
  },
  {
   "cell_type": "code",
   "execution_count": 73,
   "metadata": {},
   "outputs": [],
   "source": [
    "df['YOT'].replace({2028:2018},inplace=True)"
   ]
  },
  {
   "cell_type": "markdown",
   "metadata": {},
   "source": [
    "### FIlling missing string descritiption values with empty string '  '"
   ]
  },
  {
   "cell_type": "code",
   "execution_count": 74,
   "metadata": {},
   "outputs": [],
   "source": [
    "df['ItemDescription'].fillna(' ',inplace=True)"
   ]
  },
  {
   "cell_type": "markdown",
   "metadata": {},
   "source": [
    "### Creating new feature 'returning_customer' that contains either 0 for one time customers and 1 for returning customers."
   ]
  },
  {
   "cell_type": "code",
   "execution_count": 75,
   "metadata": {},
   "outputs": [
    {
     "name": "stderr",
     "output_type": "stream",
     "text": [
      "C:\\ProgramData\\Anaconda3\\lib\\site-packages\\ipykernel_launcher.py:5: SettingWithCopyWarning: \n",
      "A value is trying to be set on a copy of a slice from a DataFrame\n",
      "\n",
      "See the caveats in the documentation: https://pandas.pydata.org/pandas-docs/stable/user_guide/indexing.html#returning-a-view-versus-a-copy\n",
      "  \"\"\"\n"
     ]
    }
   ],
   "source": [
    "df['returning_customer']=0\n",
    "ret_cust=(df['UserId'].value_counts()>1).values\n",
    "for i in range(len(ret_cust)) :\n",
    "    if ret_cust[i]:\n",
    "        df['returning_customer'][i]=1"
   ]
  },
  {
   "cell_type": "code",
   "execution_count": 76,
   "metadata": {},
   "outputs": [
    {
     "data": {
      "text/plain": [
       "0    8574\n",
       "1    1425\n",
       "Name: returning_customer, dtype: int64"
      ]
     },
     "execution_count": 76,
     "metadata": {},
     "output_type": "execute_result"
    }
   ],
   "source": [
    "df['returning_customer'].value_counts()"
   ]
  },
  {
   "cell_type": "markdown",
   "metadata": {},
   "source": [
    "## Treating Less Frequently occuring values in 'Countries'."
   ]
  },
  {
   "cell_type": "code",
   "execution_count": 77,
   "metadata": {},
   "outputs": [
    {
     "data": {
      "text/plain": [
       "UserId                    2378\n",
       "TransactionId             6110\n",
       "TransactionTime           5967\n",
       "ItemCode                  2241\n",
       "ItemDescription           2422\n",
       "NumberOfItemsPurchased     128\n",
       "CostPerItem                230\n",
       "Country                     34\n",
       "YOT                          2\n",
       "total_spent               1109\n",
       "returning_customer           2\n",
       "dtype: int64"
      ]
     },
     "execution_count": 77,
     "metadata": {},
     "output_type": "execute_result"
    }
   ],
   "source": [
    "df.nunique()"
   ]
  },
  {
   "cell_type": "markdown",
   "metadata": {},
   "source": [
    "#### Below we can see that there are many countries with less than 25 number of occurences. So we can include them into a single variable named 'others' before performing one_hot_encoding to avoid SPARSE CLASSES."
   ]
  },
  {
   "cell_type": "code",
   "execution_count": 78,
   "metadata": {},
   "outputs": [
    {
     "data": {
      "text/plain": [
       "United Kingdom        9149\n",
       "France                 175\n",
       "Germany                167\n",
       "EIRE                   130\n",
       "Spain                   54\n",
       "Switzerland             38\n",
       "Belgium                 38\n",
       "Portugal                36\n",
       "Netherlands             34\n",
       "Australia               26\n",
       "Norway                  25\n",
       "Channel Islands         19\n",
       "Cyprus                  14\n",
       "Japan                   13\n",
       "Italy                    9\n",
       "Israel                   8\n",
       "Canada                   8\n",
       "Austria                  8\n",
       "Denmark                  7\n",
       "Sweden                   6\n",
       "Singapore                5\n",
       "Poland                   5\n",
       "Finland                  4\n",
       "USA                      4\n",
       "Unspecified              3\n",
       "Czech Republic           3\n",
       "Malta                    2\n",
       "Lebanon                  2\n",
       "Iceland                  2\n",
       "Hong Kong                1\n",
       "RSA                      1\n",
       "Brazil                   1\n",
       "European Community       1\n",
       "Greece                   1\n",
       "Name: Country, dtype: int64"
      ]
     },
     "execution_count": 78,
     "metadata": {},
     "output_type": "execute_result"
    }
   ],
   "source": [
    "df['Country'].value_counts()"
   ]
  },
  {
   "cell_type": "code",
   "execution_count": 79,
   "metadata": {},
   "outputs": [
    {
     "data": {
      "text/plain": [
       "United Kingdom    9149\n",
       "France             175\n",
       "Germany            167\n",
       "EIRE               130\n",
       "Spain               54\n",
       "Name: Country, dtype: int64"
      ]
     },
     "execution_count": 79,
     "metadata": {},
     "output_type": "execute_result"
    }
   ],
   "source": [
    "temp=df['Country'].value_counts()\n",
    "temp.head()"
   ]
  },
  {
   "cell_type": "code",
   "execution_count": 80,
   "metadata": {},
   "outputs": [
    {
     "data": {
      "text/html": [
       "<div>\n",
       "<style scoped>\n",
       "    .dataframe tbody tr th:only-of-type {\n",
       "        vertical-align: middle;\n",
       "    }\n",
       "\n",
       "    .dataframe tbody tr th {\n",
       "        vertical-align: top;\n",
       "    }\n",
       "\n",
       "    .dataframe thead th {\n",
       "        text-align: right;\n",
       "    }\n",
       "</style>\n",
       "<table border=\"1\" class=\"dataframe\">\n",
       "  <thead>\n",
       "    <tr style=\"text-align: right;\">\n",
       "      <th></th>\n",
       "      <th>Country</th>\n",
       "      <th>Country_Count</th>\n",
       "    </tr>\n",
       "  </thead>\n",
       "  <tbody>\n",
       "    <tr>\n",
       "      <th>0</th>\n",
       "      <td>United Kingdom</td>\n",
       "      <td>9149</td>\n",
       "    </tr>\n",
       "    <tr>\n",
       "      <th>1</th>\n",
       "      <td>United Kingdom</td>\n",
       "      <td>9149</td>\n",
       "    </tr>\n",
       "    <tr>\n",
       "      <th>2</th>\n",
       "      <td>France</td>\n",
       "      <td>175</td>\n",
       "    </tr>\n",
       "    <tr>\n",
       "      <th>3</th>\n",
       "      <td>United Kingdom</td>\n",
       "      <td>9149</td>\n",
       "    </tr>\n",
       "    <tr>\n",
       "      <th>4</th>\n",
       "      <td>United Kingdom</td>\n",
       "      <td>9149</td>\n",
       "    </tr>\n",
       "  </tbody>\n",
       "</table>\n",
       "</div>"
      ],
      "text/plain": [
       "          Country  Country_Count\n",
       "0  United Kingdom           9149\n",
       "1  United Kingdom           9149\n",
       "2          France            175\n",
       "3  United Kingdom           9149\n",
       "4  United Kingdom           9149"
      ]
     },
     "execution_count": 80,
     "metadata": {},
     "output_type": "execute_result"
    }
   ],
   "source": [
    "df['Country_Count']=df['Country'].apply(lambda x:temp[x])\n",
    "df[['Country','Country_Count']].head()"
   ]
  },
  {
   "cell_type": "code",
   "execution_count": 81,
   "metadata": {},
   "outputs": [
    {
     "name": "stderr",
     "output_type": "stream",
     "text": [
      "C:\\ProgramData\\Anaconda3\\lib\\site-packages\\ipykernel_launcher.py:3: SettingWithCopyWarning: \n",
      "A value is trying to be set on a copy of a slice from a DataFrame\n",
      "\n",
      "See the caveats in the documentation: https://pandas.pydata.org/pandas-docs/stable/user_guide/indexing.html#returning-a-view-versus-a-copy\n",
      "  This is separate from the ipykernel package so we can avoid doing imports until\n"
     ]
    }
   ],
   "source": [
    "for i in range(len(df)):\n",
    "    if df['Country_Count'][i]<25:\n",
    "        df['Country'][i]='others'"
   ]
  },
  {
   "cell_type": "code",
   "execution_count": 82,
   "metadata": {},
   "outputs": [
    {
     "data": {
      "text/html": [
       "<div>\n",
       "<style scoped>\n",
       "    .dataframe tbody tr th:only-of-type {\n",
       "        vertical-align: middle;\n",
       "    }\n",
       "\n",
       "    .dataframe tbody tr th {\n",
       "        vertical-align: top;\n",
       "    }\n",
       "\n",
       "    .dataframe thead th {\n",
       "        text-align: right;\n",
       "    }\n",
       "</style>\n",
       "<table border=\"1\" class=\"dataframe\">\n",
       "  <thead>\n",
       "    <tr style=\"text-align: right;\">\n",
       "      <th></th>\n",
       "      <th>UserId</th>\n",
       "      <th>TransactionId</th>\n",
       "      <th>TransactionTime</th>\n",
       "      <th>ItemCode</th>\n",
       "      <th>ItemDescription</th>\n",
       "      <th>NumberOfItemsPurchased</th>\n",
       "      <th>CostPerItem</th>\n",
       "      <th>Country</th>\n",
       "      <th>YOT</th>\n",
       "      <th>total_spent</th>\n",
       "      <th>returning_customer</th>\n",
       "      <th>Country_Count</th>\n",
       "    </tr>\n",
       "  </thead>\n",
       "  <tbody>\n",
       "    <tr>\n",
       "      <th>0</th>\n",
       "      <td>278166</td>\n",
       "      <td>6355745</td>\n",
       "      <td>Sat Feb 02 12:50:00 IST 2019</td>\n",
       "      <td>465549</td>\n",
       "      <td>FAMILY ALBUM WHITE PICTURE FRAME</td>\n",
       "      <td>6</td>\n",
       "      <td>11.73</td>\n",
       "      <td>United Kingdom</td>\n",
       "      <td>2019</td>\n",
       "      <td>70.38</td>\n",
       "      <td>1</td>\n",
       "      <td>9149</td>\n",
       "    </tr>\n",
       "    <tr>\n",
       "      <th>1</th>\n",
       "      <td>337701</td>\n",
       "      <td>6283376</td>\n",
       "      <td>Wed Dec 26 09:06:00 IST 2018</td>\n",
       "      <td>482370</td>\n",
       "      <td>LONDON BUS COFFEE MUG</td>\n",
       "      <td>3</td>\n",
       "      <td>3.52</td>\n",
       "      <td>United Kingdom</td>\n",
       "      <td>2018</td>\n",
       "      <td>10.56</td>\n",
       "      <td>1</td>\n",
       "      <td>9149</td>\n",
       "    </tr>\n",
       "    <tr>\n",
       "      <th>2</th>\n",
       "      <td>267099</td>\n",
       "      <td>6385599</td>\n",
       "      <td>Fri Feb 15 09:45:00 IST 2019</td>\n",
       "      <td>490728</td>\n",
       "      <td>SET 12 COLOUR PENCILS DOLLY GIRL</td>\n",
       "      <td>72</td>\n",
       "      <td>0.90</td>\n",
       "      <td>France</td>\n",
       "      <td>2019</td>\n",
       "      <td>64.80</td>\n",
       "      <td>1</td>\n",
       "      <td>175</td>\n",
       "    </tr>\n",
       "    <tr>\n",
       "      <th>3</th>\n",
       "      <td>380478</td>\n",
       "      <td>6044973</td>\n",
       "      <td>Fri Jun 22 07:14:00 IST 2018</td>\n",
       "      <td>459186</td>\n",
       "      <td>UNION JACK FLAG LUGGAGE TAG</td>\n",
       "      <td>3</td>\n",
       "      <td>1.73</td>\n",
       "      <td>United Kingdom</td>\n",
       "      <td>2018</td>\n",
       "      <td>5.19</td>\n",
       "      <td>1</td>\n",
       "      <td>9149</td>\n",
       "    </tr>\n",
       "    <tr>\n",
       "      <th>4</th>\n",
       "      <td>Unknown_ID</td>\n",
       "      <td>6143225</td>\n",
       "      <td>Mon Sep 10 11:58:00 IST 2018</td>\n",
       "      <td>1733592</td>\n",
       "      <td>WASHROOM METAL SIGN</td>\n",
       "      <td>3</td>\n",
       "      <td>3.40</td>\n",
       "      <td>United Kingdom</td>\n",
       "      <td>2018</td>\n",
       "      <td>10.20</td>\n",
       "      <td>1</td>\n",
       "      <td>9149</td>\n",
       "    </tr>\n",
       "  </tbody>\n",
       "</table>\n",
       "</div>"
      ],
      "text/plain": [
       "       UserId  TransactionId               TransactionTime  ItemCode  \\\n",
       "0      278166        6355745  Sat Feb 02 12:50:00 IST 2019    465549   \n",
       "1      337701        6283376  Wed Dec 26 09:06:00 IST 2018    482370   \n",
       "2      267099        6385599  Fri Feb 15 09:45:00 IST 2019    490728   \n",
       "3      380478        6044973  Fri Jun 22 07:14:00 IST 2018    459186   \n",
       "4  Unknown_ID        6143225  Mon Sep 10 11:58:00 IST 2018   1733592   \n",
       "\n",
       "                     ItemDescription  NumberOfItemsPurchased  CostPerItem  \\\n",
       "0   FAMILY ALBUM WHITE PICTURE FRAME                       6        11.73   \n",
       "1              LONDON BUS COFFEE MUG                       3         3.52   \n",
       "2  SET 12 COLOUR PENCILS DOLLY GIRL                       72         0.90   \n",
       "3        UNION JACK FLAG LUGGAGE TAG                       3         1.73   \n",
       "4                WASHROOM METAL SIGN                       3         3.40   \n",
       "\n",
       "          Country   YOT  total_spent  returning_customer  Country_Count  \n",
       "0  United Kingdom  2019        70.38                   1           9149  \n",
       "1  United Kingdom  2018        10.56                   1           9149  \n",
       "2          France  2019        64.80                   1            175  \n",
       "3  United Kingdom  2018         5.19                   1           9149  \n",
       "4  United Kingdom  2018        10.20                   1           9149  "
      ]
     },
     "execution_count": 82,
     "metadata": {},
     "output_type": "execute_result"
    }
   ],
   "source": [
    "df.head()"
   ]
  },
  {
   "cell_type": "markdown",
   "metadata": {},
   "source": [
    "## Performing one_hot_encoding of 'Countries' feature."
   ]
  },
  {
   "cell_type": "code",
   "execution_count": 83,
   "metadata": {},
   "outputs": [],
   "source": [
    "country=pd.get_dummies(df['Country'])"
   ]
  },
  {
   "cell_type": "code",
   "execution_count": 84,
   "metadata": {},
   "outputs": [],
   "source": [
    "df=pd.concat([df,country],axis=1)"
   ]
  },
  {
   "cell_type": "markdown",
   "metadata": {},
   "source": [
    "## Performing Label_Encoding of 'YOT' (year of transaction) feature."
   ]
  },
  {
   "cell_type": "code",
   "execution_count": 85,
   "metadata": {},
   "outputs": [],
   "source": [
    "from sklearn.preprocessing import LabelEncoder\n",
    "label_encoder = LabelEncoder() \n",
    "df['YOT']= label_encoder.fit_transform(df['YOT'])\n"
   ]
  },
  {
   "cell_type": "code",
   "execution_count": 86,
   "metadata": {},
   "outputs": [
    {
     "data": {
      "text/plain": [
       "0    7521\n",
       "1    2478\n",
       "Name: YOT, dtype: int64"
      ]
     },
     "execution_count": 86,
     "metadata": {},
     "output_type": "execute_result"
    }
   ],
   "source": [
    "df.YOT.value_counts()"
   ]
  },
  {
   "cell_type": "code",
   "execution_count": 87,
   "metadata": {},
   "outputs": [
    {
     "data": {
      "text/plain": [
       "Index(['UserId', 'TransactionId', 'TransactionTime', 'ItemCode',\n",
       "       'ItemDescription', 'NumberOfItemsPurchased', 'CostPerItem', 'Country',\n",
       "       'YOT', 'total_spent', 'returning_customer', 'Country_Count',\n",
       "       'Australia', 'Belgium', 'EIRE', 'France', 'Germany', 'Netherlands',\n",
       "       'Norway', 'Portugal', 'Spain', 'Switzerland', 'United Kingdom',\n",
       "       'others'],\n",
       "      dtype='object')"
      ]
     },
     "execution_count": 87,
     "metadata": {},
     "output_type": "execute_result"
    }
   ],
   "source": [
    "df.columns"
   ]
  },
  {
   "cell_type": "markdown",
   "metadata": {},
   "source": [
    "## Descriptive Analysis."
   ]
  },
  {
   "cell_type": "code",
   "execution_count": 88,
   "metadata": {},
   "outputs": [
    {
     "data": {
      "text/html": [
       "<div>\n",
       "<style scoped>\n",
       "    .dataframe tbody tr th:only-of-type {\n",
       "        vertical-align: middle;\n",
       "    }\n",
       "\n",
       "    .dataframe tbody tr th {\n",
       "        vertical-align: top;\n",
       "    }\n",
       "\n",
       "    .dataframe thead th {\n",
       "        text-align: right;\n",
       "    }\n",
       "</style>\n",
       "<table border=\"1\" class=\"dataframe\">\n",
       "  <thead>\n",
       "    <tr style=\"text-align: right;\">\n",
       "      <th></th>\n",
       "      <th>TransactionId</th>\n",
       "      <th>ItemCode</th>\n",
       "      <th>NumberOfItemsPurchased</th>\n",
       "      <th>CostPerItem</th>\n",
       "      <th>YOT</th>\n",
       "      <th>total_spent</th>\n",
       "      <th>returning_customer</th>\n",
       "      <th>Country_Count</th>\n",
       "      <th>Australia</th>\n",
       "      <th>Belgium</th>\n",
       "      <th>EIRE</th>\n",
       "      <th>France</th>\n",
       "      <th>Germany</th>\n",
       "      <th>Netherlands</th>\n",
       "      <th>Norway</th>\n",
       "      <th>Portugal</th>\n",
       "      <th>Spain</th>\n",
       "      <th>Switzerland</th>\n",
       "      <th>United Kingdom</th>\n",
       "      <th>others</th>\n",
       "    </tr>\n",
       "  </thead>\n",
       "  <tbody>\n",
       "    <tr>\n",
       "      <th>count</th>\n",
       "      <td>9.999000e+03</td>\n",
       "      <td>9.999000e+03</td>\n",
       "      <td>9999.000000</td>\n",
       "      <td>9999.000000</td>\n",
       "      <td>9999.000000</td>\n",
       "      <td>9999.000000</td>\n",
       "      <td>9999.000000</td>\n",
       "      <td>9999.000000</td>\n",
       "      <td>9999.000000</td>\n",
       "      <td>9999.000000</td>\n",
       "      <td>9999.000000</td>\n",
       "      <td>9999.000000</td>\n",
       "      <td>9999.000000</td>\n",
       "      <td>9999.000000</td>\n",
       "      <td>9999.000000</td>\n",
       "      <td>9999.000000</td>\n",
       "      <td>9999.000000</td>\n",
       "      <td>9999.000000</td>\n",
       "      <td>9999.000000</td>\n",
       "      <td>9999.000000</td>\n",
       "    </tr>\n",
       "    <tr>\n",
       "      <th>mean</th>\n",
       "      <td>6.161301e+06</td>\n",
       "      <td>6.573154e+05</td>\n",
       "      <td>29.099310</td>\n",
       "      <td>6.286740</td>\n",
       "      <td>0.247825</td>\n",
       "      <td>77.481224</td>\n",
       "      <td>0.142514</td>\n",
       "      <td>8379.875288</td>\n",
       "      <td>0.002600</td>\n",
       "      <td>0.003800</td>\n",
       "      <td>0.013001</td>\n",
       "      <td>0.017502</td>\n",
       "      <td>0.016702</td>\n",
       "      <td>0.003400</td>\n",
       "      <td>0.002500</td>\n",
       "      <td>0.003600</td>\n",
       "      <td>0.005401</td>\n",
       "      <td>0.003800</td>\n",
       "      <td>0.914991</td>\n",
       "      <td>0.012701</td>\n",
       "    </tr>\n",
       "    <tr>\n",
       "      <th>std</th>\n",
       "      <td>1.476092e+05</td>\n",
       "      <td>4.527845e+05</td>\n",
       "      <td>111.552006</td>\n",
       "      <td>79.139871</td>\n",
       "      <td>0.431771</td>\n",
       "      <td>338.306524</td>\n",
       "      <td>0.349594</td>\n",
       "      <td>2523.533448</td>\n",
       "      <td>0.050929</td>\n",
       "      <td>0.061533</td>\n",
       "      <td>0.113285</td>\n",
       "      <td>0.131138</td>\n",
       "      <td>0.128158</td>\n",
       "      <td>0.058216</td>\n",
       "      <td>0.049942</td>\n",
       "      <td>0.059898</td>\n",
       "      <td>0.073293</td>\n",
       "      <td>0.061533</td>\n",
       "      <td>0.278908</td>\n",
       "      <td>0.111988</td>\n",
       "    </tr>\n",
       "    <tr>\n",
       "      <th>min</th>\n",
       "      <td>5.900070e+06</td>\n",
       "      <td>-1.000000e+00</td>\n",
       "      <td>-4530.000000</td>\n",
       "      <td>0.000000</td>\n",
       "      <td>0.000000</td>\n",
       "      <td>-18771.780000</td>\n",
       "      <td>0.000000</td>\n",
       "      <td>1.000000</td>\n",
       "      <td>0.000000</td>\n",
       "      <td>0.000000</td>\n",
       "      <td>0.000000</td>\n",
       "      <td>0.000000</td>\n",
       "      <td>0.000000</td>\n",
       "      <td>0.000000</td>\n",
       "      <td>0.000000</td>\n",
       "      <td>0.000000</td>\n",
       "      <td>0.000000</td>\n",
       "      <td>0.000000</td>\n",
       "      <td>0.000000</td>\n",
       "      <td>0.000000</td>\n",
       "    </tr>\n",
       "    <tr>\n",
       "      <th>25%</th>\n",
       "      <td>6.029793e+06</td>\n",
       "      <td>4.606770e+05</td>\n",
       "      <td>3.000000</td>\n",
       "      <td>1.730000</td>\n",
       "      <td>0.000000</td>\n",
       "      <td>15.540000</td>\n",
       "      <td>0.000000</td>\n",
       "      <td>9149.000000</td>\n",
       "      <td>0.000000</td>\n",
       "      <td>0.000000</td>\n",
       "      <td>0.000000</td>\n",
       "      <td>0.000000</td>\n",
       "      <td>0.000000</td>\n",
       "      <td>0.000000</td>\n",
       "      <td>0.000000</td>\n",
       "      <td>0.000000</td>\n",
       "      <td>0.000000</td>\n",
       "      <td>0.000000</td>\n",
       "      <td>1.000000</td>\n",
       "      <td>0.000000</td>\n",
       "    </tr>\n",
       "    <tr>\n",
       "      <th>50%</th>\n",
       "      <td>6.170186e+06</td>\n",
       "      <td>4.752300e+05</td>\n",
       "      <td>9.000000</td>\n",
       "      <td>2.900000</td>\n",
       "      <td>0.000000</td>\n",
       "      <td>40.950000</td>\n",
       "      <td>0.000000</td>\n",
       "      <td>9149.000000</td>\n",
       "      <td>0.000000</td>\n",
       "      <td>0.000000</td>\n",
       "      <td>0.000000</td>\n",
       "      <td>0.000000</td>\n",
       "      <td>0.000000</td>\n",
       "      <td>0.000000</td>\n",
       "      <td>0.000000</td>\n",
       "      <td>0.000000</td>\n",
       "      <td>0.000000</td>\n",
       "      <td>0.000000</td>\n",
       "      <td>1.000000</td>\n",
       "      <td>0.000000</td>\n",
       "    </tr>\n",
       "    <tr>\n",
       "      <th>75%</th>\n",
       "      <td>6.290356e+06</td>\n",
       "      <td>4.887330e+05</td>\n",
       "      <td>33.000000</td>\n",
       "      <td>5.700000</td>\n",
       "      <td>0.000000</td>\n",
       "      <td>72.360000</td>\n",
       "      <td>0.000000</td>\n",
       "      <td>9149.000000</td>\n",
       "      <td>0.000000</td>\n",
       "      <td>0.000000</td>\n",
       "      <td>0.000000</td>\n",
       "      <td>0.000000</td>\n",
       "      <td>0.000000</td>\n",
       "      <td>0.000000</td>\n",
       "      <td>0.000000</td>\n",
       "      <td>0.000000</td>\n",
       "      <td>0.000000</td>\n",
       "      <td>0.000000</td>\n",
       "      <td>1.000000</td>\n",
       "      <td>0.000000</td>\n",
       "    </tr>\n",
       "    <tr>\n",
       "      <th>max</th>\n",
       "      <td>6.397435e+06</td>\n",
       "      <td>1.894494e+06</td>\n",
       "      <td>4800.000000</td>\n",
       "      <td>6257.260000</td>\n",
       "      <td>1.000000</td>\n",
       "      <td>13065.660000</td>\n",
       "      <td>1.000000</td>\n",
       "      <td>9149.000000</td>\n",
       "      <td>1.000000</td>\n",
       "      <td>1.000000</td>\n",
       "      <td>1.000000</td>\n",
       "      <td>1.000000</td>\n",
       "      <td>1.000000</td>\n",
       "      <td>1.000000</td>\n",
       "      <td>1.000000</td>\n",
       "      <td>1.000000</td>\n",
       "      <td>1.000000</td>\n",
       "      <td>1.000000</td>\n",
       "      <td>1.000000</td>\n",
       "      <td>1.000000</td>\n",
       "    </tr>\n",
       "  </tbody>\n",
       "</table>\n",
       "</div>"
      ],
      "text/plain": [
       "       TransactionId      ItemCode  NumberOfItemsPurchased  CostPerItem  \\\n",
       "count   9.999000e+03  9.999000e+03             9999.000000  9999.000000   \n",
       "mean    6.161301e+06  6.573154e+05               29.099310     6.286740   \n",
       "std     1.476092e+05  4.527845e+05              111.552006    79.139871   \n",
       "min     5.900070e+06 -1.000000e+00            -4530.000000     0.000000   \n",
       "25%     6.029793e+06  4.606770e+05                3.000000     1.730000   \n",
       "50%     6.170186e+06  4.752300e+05                9.000000     2.900000   \n",
       "75%     6.290356e+06  4.887330e+05               33.000000     5.700000   \n",
       "max     6.397435e+06  1.894494e+06             4800.000000  6257.260000   \n",
       "\n",
       "               YOT   total_spent  returning_customer  Country_Count  \\\n",
       "count  9999.000000   9999.000000         9999.000000    9999.000000   \n",
       "mean      0.247825     77.481224            0.142514    8379.875288   \n",
       "std       0.431771    338.306524            0.349594    2523.533448   \n",
       "min       0.000000 -18771.780000            0.000000       1.000000   \n",
       "25%       0.000000     15.540000            0.000000    9149.000000   \n",
       "50%       0.000000     40.950000            0.000000    9149.000000   \n",
       "75%       0.000000     72.360000            0.000000    9149.000000   \n",
       "max       1.000000  13065.660000            1.000000    9149.000000   \n",
       "\n",
       "         Australia      Belgium         EIRE       France      Germany  \\\n",
       "count  9999.000000  9999.000000  9999.000000  9999.000000  9999.000000   \n",
       "mean      0.002600     0.003800     0.013001     0.017502     0.016702   \n",
       "std       0.050929     0.061533     0.113285     0.131138     0.128158   \n",
       "min       0.000000     0.000000     0.000000     0.000000     0.000000   \n",
       "25%       0.000000     0.000000     0.000000     0.000000     0.000000   \n",
       "50%       0.000000     0.000000     0.000000     0.000000     0.000000   \n",
       "75%       0.000000     0.000000     0.000000     0.000000     0.000000   \n",
       "max       1.000000     1.000000     1.000000     1.000000     1.000000   \n",
       "\n",
       "       Netherlands       Norway     Portugal        Spain  Switzerland  \\\n",
       "count  9999.000000  9999.000000  9999.000000  9999.000000  9999.000000   \n",
       "mean      0.003400     0.002500     0.003600     0.005401     0.003800   \n",
       "std       0.058216     0.049942     0.059898     0.073293     0.061533   \n",
       "min       0.000000     0.000000     0.000000     0.000000     0.000000   \n",
       "25%       0.000000     0.000000     0.000000     0.000000     0.000000   \n",
       "50%       0.000000     0.000000     0.000000     0.000000     0.000000   \n",
       "75%       0.000000     0.000000     0.000000     0.000000     0.000000   \n",
       "max       1.000000     1.000000     1.000000     1.000000     1.000000   \n",
       "\n",
       "       United Kingdom       others  \n",
       "count     9999.000000  9999.000000  \n",
       "mean         0.914991     0.012701  \n",
       "std          0.278908     0.111988  \n",
       "min          0.000000     0.000000  \n",
       "25%          1.000000     0.000000  \n",
       "50%          1.000000     0.000000  \n",
       "75%          1.000000     0.000000  \n",
       "max          1.000000     1.000000  "
      ]
     },
     "execution_count": 88,
     "metadata": {},
     "output_type": "execute_result"
    }
   ],
   "source": [
    "df.describe()"
   ]
  },
  {
   "cell_type": "markdown",
   "metadata": {},
   "source": [
    "## We can see that there are there are few negative values in 'NumberOfItemsPurchased' and 'total_spent' features, we must convert them to positive values to make sense."
   ]
  },
  {
   "cell_type": "code",
   "execution_count": 89,
   "metadata": {},
   "outputs": [
    {
     "name": "stderr",
     "output_type": "stream",
     "text": [
      "C:\\ProgramData\\Anaconda3\\lib\\site-packages\\ipykernel_launcher.py:4: SettingWithCopyWarning: \n",
      "A value is trying to be set on a copy of a slice from a DataFrame\n",
      "\n",
      "See the caveats in the documentation: https://pandas.pydata.org/pandas-docs/stable/user_guide/indexing.html#returning-a-view-versus-a-copy\n",
      "  after removing the cwd from sys.path.\n"
     ]
    }
   ],
   "source": [
    "temp=(df['NumberOfItemsPurchased']<0).values\n",
    "for i in range(len(temp)) :\n",
    "    if temp[i]:\n",
    "        df['NumberOfItemsPurchased'][i]*=-1"
   ]
  },
  {
   "cell_type": "code",
   "execution_count": 90,
   "metadata": {},
   "outputs": [
    {
     "name": "stderr",
     "output_type": "stream",
     "text": [
      "C:\\ProgramData\\Anaconda3\\lib\\site-packages\\ipykernel_launcher.py:4: SettingWithCopyWarning: \n",
      "A value is trying to be set on a copy of a slice from a DataFrame\n",
      "\n",
      "See the caveats in the documentation: https://pandas.pydata.org/pandas-docs/stable/user_guide/indexing.html#returning-a-view-versus-a-copy\n",
      "  after removing the cwd from sys.path.\n"
     ]
    }
   ],
   "source": [
    "temp=(df['total_spent']<0).values\n",
    "for i in range(len(temp)) :\n",
    "    if temp[i]:\n",
    "        df['total_spent'][i]*=-1"
   ]
  },
  {
   "cell_type": "markdown",
   "metadata": {},
   "source": [
    "# EDA Visualizations"
   ]
  },
  {
   "cell_type": "markdown",
   "metadata": {},
   "source": [
    "### 1. Scatter Plot."
   ]
  },
  {
   "cell_type": "code",
   "execution_count": 91,
   "metadata": {
    "scrolled": true
   },
   "outputs": [
    {
     "data": {
      "text/plain": [
       "Text(0.5, 0, 'Number of items purchased')"
      ]
     },
     "execution_count": 91,
     "metadata": {},
     "output_type": "execute_result"
    },
    {
     "data": {
      "image/png": "[encoded data removed]",
      "text/plain": [
       "<Figure size 1152x360 with 1 Axes>"
      ]
     },
     "metadata": {
      "needs_background": "light"
     },
     "output_type": "display_data"
    }
   ],
   "source": [
    "plt.figure(figsize=(16,5))\n",
    "sns.scatterplot(y=df['total_spent'],x=df['NumberOfItemsPurchased'])\n",
    "plt.ylabel('Total Amount Spent by customers')\n",
    "plt.xlabel('Number of items purchased')"
   ]
  },
  {
   "cell_type": "markdown",
   "metadata": {},
   "source": [
    "## Inference :\n",
    "#### 1. We can conclude that more number of items are purchased for which he total amount falls below 2500 amount. \n",
    "#### 2. The highest amount spent by any customer is around 18000.\n",
    "#### 3. As the total amount increases the number of items bought decreases. Since We can see only few items being bought above 2500 amount."
   ]
  },
  {
   "cell_type": "code",
   "execution_count": 92,
   "metadata": {},
   "outputs": [
    {
     "data": {
      "text/plain": [
       "([<matplotlib.axis.XTick at 0x201cb233708>,\n",
       "  <matplotlib.axis.XTick at 0x201cb22bd48>],\n",
       " <a list of 2 Text xticklabel objects>)"
      ]
     },
     "execution_count": 92,
     "metadata": {},
     "output_type": "execute_result"
    },
    {
     "data": {
      "image/png": "[encoded data removed]",
      "text/plain": [
       "<Figure size 576x576 with 1 Axes>"
      ]
     },
     "metadata": {
      "needs_background": "light"
     },
     "output_type": "display_data"
    }
   ],
   "source": [
    "plt.figure(figsize=(8,8))\n",
    "sns.barplot(x=df['YOT'],y=df['NumberOfItemsPurchased'])\n",
    "plt.xlabel('Year of Transaction')\n",
    "plt.ylabel('Items Purchased')\n",
    "plt.xticks(ticks=[0,1],labels=[2018,2019])"
   ]
  },
  {
   "cell_type": "markdown",
   "metadata": {},
   "source": [
    "## Inference:\n",
    "#### 1. We can infer that more number of items were purchased in the year 2018 as compared to 2018."
   ]
  },
  {
   "cell_type": "code",
   "execution_count": 93,
   "metadata": {},
   "outputs": [
    {
     "data": {
      "text/plain": [
       "([<matplotlib.axis.XTick at 0x201cb28ea48>,\n",
       "  <matplotlib.axis.XTick at 0x201cb28e0c8>],\n",
       " <a list of 2 Text xticklabel objects>)"
      ]
     },
     "execution_count": 93,
     "metadata": {},
     "output_type": "execute_result"
    },
    {
     "data": {
      "image/png": "[encoded data removed]",
      "text/plain": [
       "<Figure size 432x288 with 1 Axes>"
      ]
     },
     "metadata": {
      "needs_background": "light"
     },
     "output_type": "display_data"
    }
   ],
   "source": [
    "sns.countplot(df['returning_customer'])\n",
    "plt.xlabel('Type of Customer')\n",
    "plt.ylabel('Count of Customer')\n",
    "plt.xticks(ticks=[0,1],labels=['One Time Customer','Returning Customer'])"
   ]
  },
  {
   "cell_type": "code",
   "execution_count": 94,
   "metadata": {},
   "outputs": [
    {
     "data": {
      "text/plain": [
       "<matplotlib.axes._subplots.AxesSubplot at 0x201cb2cd388>"
      ]
     },
     "execution_count": 94,
     "metadata": {},
     "output_type": "execute_result"
    },
    {
     "data": {
      "image/png": "[encoded data removed]",
      "text/plain": [
       "<Figure size 432x288 with 1 Axes>"
      ]
     },
     "metadata": {
      "needs_background": "light"
     },
     "output_type": "display_data"
    }
   ],
   "source": [
    "sns.barplot(x=df['returning_customer'],y=df['total_spent'])"
   ]
  },
  {
   "cell_type": "code",
   "execution_count": 95,
   "metadata": {},
   "outputs": [
    {
     "data": {
      "text/plain": [
       "Text(0.5, 0, 'Number of items purchased')"
      ]
     },
     "execution_count": 95,
     "metadata": {},
     "output_type": "execute_result"
    },
    {
     "data": {
      "image/png": "[encoded data removed]",
      "text/plain": [
       "<Figure size 1152x360 with 1 Axes>"
      ]
     },
     "metadata": {
      "needs_background": "light"
     },
     "output_type": "display_data"
    }
   ],
   "source": [
    "plt.figure(figsize=(16,5))\n",
    "sns.scatterplot(y=df['CostPerItem'],x=df['NumberOfItemsPurchased'])\n",
    "plt.ylabel('Cost per item')\n",
    "plt.xlabel('Number of items purchased')"
   ]
  },
  {
   "cell_type": "markdown",
   "metadata": {},
   "source": [
    "## Inference:\n",
    "### 1. We can conclude that there are very few items bought by customers which have very high cost per item.\n",
    "### 2. More number of items are bought with low cost per item."
   ]
  },
  {
   "cell_type": "code",
   "execution_count": 96,
   "metadata": {},
   "outputs": [
    {
     "data": {
      "text/plain": [
       "<matplotlib.legend.Legend at 0x201cb44ec48>"
      ]
     },
     "execution_count": 96,
     "metadata": {},
     "output_type": "execute_result"
    },
    {
     "data": {
      "image/png": "[encoded data removed]",
      "text/plain": [
       "<Figure size 576x576 with 1 Axes>"
      ]
     },
     "metadata": {
      "needs_background": "light"
     },
     "output_type": "display_data"
    }
   ],
   "source": [
    "plt.figure(figsize=(8,8))\n",
    "sns.barplot(x=df['YOT'],y=df['CostPerItem'],hue=df['returning_customer'])\n",
    "plt.xlabel('Year of Transaction')\n",
    "plt.ylabel('Cost Per Item')\n",
    "plt.xticks(ticks=[0,1],labels=[2018,2019])\n",
    "plt.legend()"
   ]
  },
  {
   "cell_type": "markdown",
   "metadata": {},
   "source": [
    "## Inference :\n",
    "### 1. We can conclude that out of the items bought cost per item in the year 2018 was compratively higher than 2019."
   ]
  },
  {
   "cell_type": "code",
   "execution_count": 97,
   "metadata": {},
   "outputs": [
    {
     "data": {
      "text/html": [
       "<div>\n",
       "<style scoped>\n",
       "    .dataframe tbody tr th:only-of-type {\n",
       "        vertical-align: middle;\n",
       "    }\n",
       "\n",
       "    .dataframe tbody tr th {\n",
       "        vertical-align: top;\n",
       "    }\n",
       "\n",
       "    .dataframe thead th {\n",
       "        text-align: right;\n",
       "    }\n",
       "</style>\n",
       "<table border=\"1\" class=\"dataframe\">\n",
       "  <thead>\n",
       "    <tr style=\"text-align: right;\">\n",
       "      <th></th>\n",
       "      <th>UserId</th>\n",
       "      <th>TransactionId</th>\n",
       "      <th>TransactionTime</th>\n",
       "      <th>ItemCode</th>\n",
       "      <th>ItemDescription</th>\n",
       "      <th>NumberOfItemsPurchased</th>\n",
       "      <th>CostPerItem</th>\n",
       "      <th>Country</th>\n",
       "      <th>YOT</th>\n",
       "      <th>total_spent</th>\n",
       "      <th>...</th>\n",
       "      <th>EIRE</th>\n",
       "      <th>France</th>\n",
       "      <th>Germany</th>\n",
       "      <th>Netherlands</th>\n",
       "      <th>Norway</th>\n",
       "      <th>Portugal</th>\n",
       "      <th>Spain</th>\n",
       "      <th>Switzerland</th>\n",
       "      <th>United Kingdom</th>\n",
       "      <th>others</th>\n",
       "    </tr>\n",
       "  </thead>\n",
       "  <tbody>\n",
       "    <tr>\n",
       "      <th>0</th>\n",
       "      <td>278166</td>\n",
       "      <td>6355745</td>\n",
       "      <td>Sat Feb 02 12:50:00 IST 2019</td>\n",
       "      <td>465549</td>\n",
       "      <td>FAMILY ALBUM WHITE PICTURE FRAME</td>\n",
       "      <td>6</td>\n",
       "      <td>11.73</td>\n",
       "      <td>United Kingdom</td>\n",
       "      <td>1</td>\n",
       "      <td>70.38</td>\n",
       "      <td>...</td>\n",
       "      <td>0</td>\n",
       "      <td>0</td>\n",
       "      <td>0</td>\n",
       "      <td>0</td>\n",
       "      <td>0</td>\n",
       "      <td>0</td>\n",
       "      <td>0</td>\n",
       "      <td>0</td>\n",
       "      <td>1</td>\n",
       "      <td>0</td>\n",
       "    </tr>\n",
       "    <tr>\n",
       "      <th>1</th>\n",
       "      <td>337701</td>\n",
       "      <td>6283376</td>\n",
       "      <td>Wed Dec 26 09:06:00 IST 2018</td>\n",
       "      <td>482370</td>\n",
       "      <td>LONDON BUS COFFEE MUG</td>\n",
       "      <td>3</td>\n",
       "      <td>3.52</td>\n",
       "      <td>United Kingdom</td>\n",
       "      <td>0</td>\n",
       "      <td>10.56</td>\n",
       "      <td>...</td>\n",
       "      <td>0</td>\n",
       "      <td>0</td>\n",
       "      <td>0</td>\n",
       "      <td>0</td>\n",
       "      <td>0</td>\n",
       "      <td>0</td>\n",
       "      <td>0</td>\n",
       "      <td>0</td>\n",
       "      <td>1</td>\n",
       "      <td>0</td>\n",
       "    </tr>\n",
       "    <tr>\n",
       "      <th>2</th>\n",
       "      <td>267099</td>\n",
       "      <td>6385599</td>\n",
       "      <td>Fri Feb 15 09:45:00 IST 2019</td>\n",
       "      <td>490728</td>\n",
       "      <td>SET 12 COLOUR PENCILS DOLLY GIRL</td>\n",
       "      <td>72</td>\n",
       "      <td>0.90</td>\n",
       "      <td>France</td>\n",
       "      <td>1</td>\n",
       "      <td>64.80</td>\n",
       "      <td>...</td>\n",
       "      <td>0</td>\n",
       "      <td>1</td>\n",
       "      <td>0</td>\n",
       "      <td>0</td>\n",
       "      <td>0</td>\n",
       "      <td>0</td>\n",
       "      <td>0</td>\n",
       "      <td>0</td>\n",
       "      <td>0</td>\n",
       "      <td>0</td>\n",
       "    </tr>\n",
       "    <tr>\n",
       "      <th>3</th>\n",
       "      <td>380478</td>\n",
       "      <td>6044973</td>\n",
       "      <td>Fri Jun 22 07:14:00 IST 2018</td>\n",
       "      <td>459186</td>\n",
       "      <td>UNION JACK FLAG LUGGAGE TAG</td>\n",
       "      <td>3</td>\n",
       "      <td>1.73</td>\n",
       "      <td>United Kingdom</td>\n",
       "      <td>0</td>\n",
       "      <td>5.19</td>\n",
       "      <td>...</td>\n",
       "      <td>0</td>\n",
       "      <td>0</td>\n",
       "      <td>0</td>\n",
       "      <td>0</td>\n",
       "      <td>0</td>\n",
       "      <td>0</td>\n",
       "      <td>0</td>\n",
       "      <td>0</td>\n",
       "      <td>1</td>\n",
       "      <td>0</td>\n",
       "    </tr>\n",
       "    <tr>\n",
       "      <th>4</th>\n",
       "      <td>Unknown_ID</td>\n",
       "      <td>6143225</td>\n",
       "      <td>Mon Sep 10 11:58:00 IST 2018</td>\n",
       "      <td>1733592</td>\n",
       "      <td>WASHROOM METAL SIGN</td>\n",
       "      <td>3</td>\n",
       "      <td>3.40</td>\n",
       "      <td>United Kingdom</td>\n",
       "      <td>0</td>\n",
       "      <td>10.20</td>\n",
       "      <td>...</td>\n",
       "      <td>0</td>\n",
       "      <td>0</td>\n",
       "      <td>0</td>\n",
       "      <td>0</td>\n",
       "      <td>0</td>\n",
       "      <td>0</td>\n",
       "      <td>0</td>\n",
       "      <td>0</td>\n",
       "      <td>1</td>\n",
       "      <td>0</td>\n",
       "    </tr>\n",
       "  </tbody>\n",
       "</table>\n",
       "<p>5 rows × 24 columns</p>\n",
       "</div>"
      ],
      "text/plain": [
       "       UserId  TransactionId               TransactionTime  ItemCode  \\\n",
       "0      278166        6355745  Sat Feb 02 12:50:00 IST 2019    465549   \n",
       "1      337701        6283376  Wed Dec 26 09:06:00 IST 2018    482370   \n",
       "2      267099        6385599  Fri Feb 15 09:45:00 IST 2019    490728   \n",
       "3      380478        6044973  Fri Jun 22 07:14:00 IST 2018    459186   \n",
       "4  Unknown_ID        6143225  Mon Sep 10 11:58:00 IST 2018   1733592   \n",
       "\n",
       "                     ItemDescription  NumberOfItemsPurchased  CostPerItem  \\\n",
       "0   FAMILY ALBUM WHITE PICTURE FRAME                       6        11.73   \n",
       "1              LONDON BUS COFFEE MUG                       3         3.52   \n",
       "2  SET 12 COLOUR PENCILS DOLLY GIRL                       72         0.90   \n",
       "3        UNION JACK FLAG LUGGAGE TAG                       3         1.73   \n",
       "4                WASHROOM METAL SIGN                       3         3.40   \n",
       "\n",
       "          Country  YOT  total_spent  ...  EIRE  France  Germany  Netherlands  \\\n",
       "0  United Kingdom    1        70.38  ...     0       0        0            0   \n",
       "1  United Kingdom    0        10.56  ...     0       0        0            0   \n",
       "2          France    1        64.80  ...     0       1        0            0   \n",
       "3  United Kingdom    0         5.19  ...     0       0        0            0   \n",
       "4  United Kingdom    0        10.20  ...     0       0        0            0   \n",
       "\n",
       "   Norway  Portugal  Spain  Switzerland  United Kingdom  others  \n",
       "0       0         0      0            0               1       0  \n",
       "1       0         0      0            0               1       0  \n",
       "2       0         0      0            0               0       0  \n",
       "3       0         0      0            0               1       0  \n",
       "4       0         0      0            0               1       0  \n",
       "\n",
       "[5 rows x 24 columns]"
      ]
     },
     "execution_count": 97,
     "metadata": {},
     "output_type": "execute_result"
    }
   ],
   "source": [
    "df.head()"
   ]
  },
  {
   "cell_type": "markdown",
   "metadata": {},
   "source": [
    "## Feature Transformations to form Gaussian Distribution."
   ]
  },
  {
   "cell_type": "markdown",
   "metadata": {},
   "source": [
    "## 1. Log Transformation."
   ]
  },
  {
   "cell_type": "code",
   "execution_count": 98,
   "metadata": {},
   "outputs": [],
   "source": [
    "df['total_spent']=np.log1p(df['total_spent'])"
   ]
  },
  {
   "cell_type": "code",
   "execution_count": 99,
   "metadata": {},
   "outputs": [
    {
     "data": {
      "text/plain": [
       "<matplotlib.axes._subplots.AxesSubplot at 0x201cb4c6e88>"
      ]
     },
     "execution_count": 99,
     "metadata": {},
     "output_type": "execute_result"
    },
    {
     "data": {
      "image/png": "[encoded data removed]",
      "text/plain": [
       "<Figure size 432x288 with 1 Axes>"
      ]
     },
     "metadata": {
      "needs_background": "light"
     },
     "output_type": "display_data"
    }
   ],
   "source": [
    "sns.distplot(df['total_spent'])"
   ]
  },
  {
   "cell_type": "markdown",
   "metadata": {},
   "source": [
    "## 2. Square Root Transformation."
   ]
  },
  {
   "cell_type": "code",
   "execution_count": 100,
   "metadata": {},
   "outputs": [],
   "source": [
    "df['NumberOfItemsPurchased']=np.sqrt(df['NumberOfItemsPurchased'])"
   ]
  },
  {
   "cell_type": "code",
   "execution_count": 101,
   "metadata": {},
   "outputs": [
    {
     "data": {
      "text/plain": [
       "<matplotlib.axes._subplots.AxesSubplot at 0x201cc5e4a88>"
      ]
     },
     "execution_count": 101,
     "metadata": {},
     "output_type": "execute_result"
    },
    {
     "data": {
      "image/png": "[encoded data removed]",
      "text/plain": [
       "<Figure size 432x288 with 1 Axes>"
      ]
     },
     "metadata": {
      "needs_background": "light"
     },
     "output_type": "display_data"
    }
   ],
   "source": [
    "sns.distplot(df['NumberOfItemsPurchased'])"
   ]
  },
  {
   "cell_type": "markdown",
   "metadata": {},
   "source": [
    "## 3. Log Transformation"
   ]
  },
  {
   "cell_type": "code",
   "execution_count": 102,
   "metadata": {},
   "outputs": [
    {
     "data": {
      "text/plain": [
       "<matplotlib.axes._subplots.AxesSubplot at 0x201cc85c108>"
      ]
     },
     "execution_count": 102,
     "metadata": {},
     "output_type": "execute_result"
    },
    {
     "data": {
      "image/png": "[encoded data removed]",
      "text/plain": [
       "<Figure size 432x288 with 1 Axes>"
      ]
     },
     "metadata": {
      "needs_background": "light"
     },
     "output_type": "display_data"
    }
   ],
   "source": [
    "df['CostPerItem']=np.log1p(df['CostPerItem'])\n",
    "sns.distplot(df['CostPerItem'])"
   ]
  },
  {
   "cell_type": "markdown",
   "metadata": {},
   "source": [
    "## Finalizing our Dataset for performing KMeans Clustering."
   ]
  },
  {
   "cell_type": "code",
   "execution_count": 103,
   "metadata": {},
   "outputs": [],
   "source": [
    "user_id=df['UserId']\n",
    "df.drop(['TransactionId','TransactionTime','ItemDescription','Country','ItemCode','UserId','Country_Count'],axis=1,inplace=True)"
   ]
  },
  {
   "cell_type": "code",
   "execution_count": 104,
   "metadata": {},
   "outputs": [
    {
     "data": {
      "text/html": [
       "<div>\n",
       "<style scoped>\n",
       "    .dataframe tbody tr th:only-of-type {\n",
       "        vertical-align: middle;\n",
       "    }\n",
       "\n",
       "    .dataframe tbody tr th {\n",
       "        vertical-align: top;\n",
       "    }\n",
       "\n",
       "    .dataframe thead th {\n",
       "        text-align: right;\n",
       "    }\n",
       "</style>\n",
       "<table border=\"1\" class=\"dataframe\">\n",
       "  <thead>\n",
       "    <tr style=\"text-align: right;\">\n",
       "      <th></th>\n",
       "      <th>NumberOfItemsPurchased</th>\n",
       "      <th>CostPerItem</th>\n",
       "      <th>YOT</th>\n",
       "      <th>total_spent</th>\n",
       "      <th>returning_customer</th>\n",
       "      <th>Australia</th>\n",
       "      <th>Belgium</th>\n",
       "      <th>EIRE</th>\n",
       "      <th>France</th>\n",
       "      <th>Germany</th>\n",
       "      <th>Netherlands</th>\n",
       "      <th>Norway</th>\n",
       "      <th>Portugal</th>\n",
       "      <th>Spain</th>\n",
       "      <th>Switzerland</th>\n",
       "      <th>United Kingdom</th>\n",
       "      <th>others</th>\n",
       "    </tr>\n",
       "  </thead>\n",
       "  <tbody>\n",
       "    <tr>\n",
       "      <th>0</th>\n",
       "      <td>2.449490</td>\n",
       "      <td>2.543961</td>\n",
       "      <td>1</td>\n",
       "      <td>4.268018</td>\n",
       "      <td>1</td>\n",
       "      <td>0</td>\n",
       "      <td>0</td>\n",
       "      <td>0</td>\n",
       "      <td>0</td>\n",
       "      <td>0</td>\n",
       "      <td>0</td>\n",
       "      <td>0</td>\n",
       "      <td>0</td>\n",
       "      <td>0</td>\n",
       "      <td>0</td>\n",
       "      <td>1</td>\n",
       "      <td>0</td>\n",
       "    </tr>\n",
       "    <tr>\n",
       "      <th>1</th>\n",
       "      <td>1.732051</td>\n",
       "      <td>1.508512</td>\n",
       "      <td>0</td>\n",
       "      <td>2.447551</td>\n",
       "      <td>1</td>\n",
       "      <td>0</td>\n",
       "      <td>0</td>\n",
       "      <td>0</td>\n",
       "      <td>0</td>\n",
       "      <td>0</td>\n",
       "      <td>0</td>\n",
       "      <td>0</td>\n",
       "      <td>0</td>\n",
       "      <td>0</td>\n",
       "      <td>0</td>\n",
       "      <td>1</td>\n",
       "      <td>0</td>\n",
       "    </tr>\n",
       "    <tr>\n",
       "      <th>2</th>\n",
       "      <td>8.485281</td>\n",
       "      <td>0.641854</td>\n",
       "      <td>1</td>\n",
       "      <td>4.186620</td>\n",
       "      <td>1</td>\n",
       "      <td>0</td>\n",
       "      <td>0</td>\n",
       "      <td>0</td>\n",
       "      <td>1</td>\n",
       "      <td>0</td>\n",
       "      <td>0</td>\n",
       "      <td>0</td>\n",
       "      <td>0</td>\n",
       "      <td>0</td>\n",
       "      <td>0</td>\n",
       "      <td>0</td>\n",
       "      <td>0</td>\n",
       "    </tr>\n",
       "    <tr>\n",
       "      <th>3</th>\n",
       "      <td>1.732051</td>\n",
       "      <td>1.004302</td>\n",
       "      <td>0</td>\n",
       "      <td>1.822935</td>\n",
       "      <td>1</td>\n",
       "      <td>0</td>\n",
       "      <td>0</td>\n",
       "      <td>0</td>\n",
       "      <td>0</td>\n",
       "      <td>0</td>\n",
       "      <td>0</td>\n",
       "      <td>0</td>\n",
       "      <td>0</td>\n",
       "      <td>0</td>\n",
       "      <td>0</td>\n",
       "      <td>1</td>\n",
       "      <td>0</td>\n",
       "    </tr>\n",
       "    <tr>\n",
       "      <th>4</th>\n",
       "      <td>1.732051</td>\n",
       "      <td>1.481605</td>\n",
       "      <td>0</td>\n",
       "      <td>2.415914</td>\n",
       "      <td>1</td>\n",
       "      <td>0</td>\n",
       "      <td>0</td>\n",
       "      <td>0</td>\n",
       "      <td>0</td>\n",
       "      <td>0</td>\n",
       "      <td>0</td>\n",
       "      <td>0</td>\n",
       "      <td>0</td>\n",
       "      <td>0</td>\n",
       "      <td>0</td>\n",
       "      <td>1</td>\n",
       "      <td>0</td>\n",
       "    </tr>\n",
       "  </tbody>\n",
       "</table>\n",
       "</div>"
      ],
      "text/plain": [
       "   NumberOfItemsPurchased  CostPerItem  YOT  total_spent  returning_customer  \\\n",
       "0                2.449490     2.543961    1     4.268018                   1   \n",
       "1                1.732051     1.508512    0     2.447551                   1   \n",
       "2                8.485281     0.641854    1     4.186620                   1   \n",
       "3                1.732051     1.004302    0     1.822935                   1   \n",
       "4                1.732051     1.481605    0     2.415914                   1   \n",
       "\n",
       "   Australia  Belgium  EIRE  France  Germany  Netherlands  Norway  Portugal  \\\n",
       "0          0        0     0       0        0            0       0         0   \n",
       "1          0        0     0       0        0            0       0         0   \n",
       "2          0        0     0       1        0            0       0         0   \n",
       "3          0        0     0       0        0            0       0         0   \n",
       "4          0        0     0       0        0            0       0         0   \n",
       "\n",
       "   Spain  Switzerland  United Kingdom  others  \n",
       "0      0            0               1       0  \n",
       "1      0            0               1       0  \n",
       "2      0            0               0       0  \n",
       "3      0            0               1       0  \n",
       "4      0            0               1       0  "
      ]
     },
     "execution_count": 104,
     "metadata": {},
     "output_type": "execute_result"
    }
   ],
   "source": [
    "df.head()"
   ]
  },
  {
   "cell_type": "markdown",
   "metadata": {},
   "source": [
    "# K-Means Clustering."
   ]
  },
  {
   "cell_type": "code",
   "execution_count": 105,
   "metadata": {},
   "outputs": [],
   "source": [
    "from sklearn.cluster import KMeans"
   ]
  },
  {
   "cell_type": "code",
   "execution_count": 106,
   "metadata": {},
   "outputs": [],
   "source": [
    "SSE_scaled=[]\n",
    "for cluster in range(1,20):\n",
    "    kmeans = KMeans(n_jobs = -1, n_clusters = cluster)\n",
    "    kmeans.fit(df)\n",
    "    SSE_scaled.append(kmeans.inertia_)"
   ]
  },
  {
   "cell_type": "markdown",
   "metadata": {},
   "source": [
    "# ELBOW PLOT.\n",
    "### To determine most efficient value for 'k'."
   ]
  },
  {
   "cell_type": "code",
   "execution_count": 107,
   "metadata": {},
   "outputs": [
    {
     "data": {
      "text/plain": [
       "Text(0, 0.5, 'SSE')"
      ]
     },
     "execution_count": 107,
     "metadata": {},
     "output_type": "execute_result"
    },
    {
     "data": {
      "image/png": "[encoded data removed]",
      "text/plain": [
       "<Figure size 864x432 with 1 Axes>"
      ]
     },
     "metadata": {
      "needs_background": "light"
     },
     "output_type": "display_data"
    }
   ],
   "source": [
    "plt.figure(figsize=(12,6))\n",
    "frame_scaled = pd.DataFrame({'Cluster':range(1,20), 'SSE':SSE_scaled})\n",
    "plt.plot(frame_scaled['Cluster'], frame_scaled['SSE'], marker='o')\n",
    "plt.xlabel(\"Clusters\")\n",
    "plt.ylabel(\"SSE\")"
   ]
  },
  {
   "cell_type": "markdown",
   "metadata": {},
   "source": [
    "### We consider k=5 as optimum value for performing KMeans Clustering."
   ]
  },
  {
   "cell_type": "code",
   "execution_count": 121,
   "metadata": {},
   "outputs": [],
   "source": [
    "kmeans = KMeans(n_jobs = -1, n_clusters = 6)\n",
    "kmeans.fit(df)\n",
    "pred = kmeans.predict(df)"
   ]
  },
  {
   "cell_type": "code",
   "execution_count": 122,
   "metadata": {},
   "outputs": [
    {
     "data": {
      "text/plain": [
       "array([0, 2, 1, ..., 2, 0, 4])"
      ]
     },
     "execution_count": 122,
     "metadata": {},
     "output_type": "execute_result"
    }
   ],
   "source": [
    "pred"
   ]
  },
  {
   "cell_type": "code",
   "execution_count": 123,
   "metadata": {},
   "outputs": [],
   "source": [
    "frame = pd.DataFrame(df)"
   ]
  },
  {
   "cell_type": "code",
   "execution_count": 124,
   "metadata": {},
   "outputs": [],
   "source": [
    "frame['cluster'] = pred"
   ]
  },
  {
   "cell_type": "code",
   "execution_count": 125,
   "metadata": {},
   "outputs": [
    {
     "data": {
      "text/plain": [
       "0    3690\n",
       "2    3066\n",
       "4    1958\n",
       "1     895\n",
       "5     336\n",
       "3      54\n",
       "Name: cluster, dtype: int64"
      ]
     },
     "execution_count": 125,
     "metadata": {},
     "output_type": "execute_result"
    }
   ],
   "source": [
    "frame['cluster'].value_counts()"
   ]
  },
  {
   "cell_type": "code",
   "execution_count": 126,
   "metadata": {},
   "outputs": [
    {
     "data": {
      "text/html": [
       "<div>\n",
       "<style scoped>\n",
       "    .dataframe tbody tr th:only-of-type {\n",
       "        vertical-align: middle;\n",
       "    }\n",
       "\n",
       "    .dataframe tbody tr th {\n",
       "        vertical-align: top;\n",
       "    }\n",
       "\n",
       "    .dataframe thead th {\n",
       "        text-align: right;\n",
       "    }\n",
       "</style>\n",
       "<table border=\"1\" class=\"dataframe\">\n",
       "  <thead>\n",
       "    <tr style=\"text-align: right;\">\n",
       "      <th></th>\n",
       "      <th>NumberOfItemsPurchased</th>\n",
       "      <th>CostPerItem</th>\n",
       "      <th>YOT</th>\n",
       "      <th>total_spent</th>\n",
       "      <th>returning_customer</th>\n",
       "      <th>Australia</th>\n",
       "      <th>Belgium</th>\n",
       "      <th>EIRE</th>\n",
       "      <th>France</th>\n",
       "      <th>Germany</th>\n",
       "      <th>Netherlands</th>\n",
       "      <th>Norway</th>\n",
       "      <th>Portugal</th>\n",
       "      <th>Spain</th>\n",
       "      <th>Switzerland</th>\n",
       "      <th>United Kingdom</th>\n",
       "      <th>others</th>\n",
       "      <th>cluster</th>\n",
       "      <th>UserId</th>\n",
       "    </tr>\n",
       "  </thead>\n",
       "  <tbody>\n",
       "    <tr>\n",
       "      <th>0</th>\n",
       "      <td>2.449490</td>\n",
       "      <td>2.543961</td>\n",
       "      <td>1</td>\n",
       "      <td>4.268018</td>\n",
       "      <td>1</td>\n",
       "      <td>0</td>\n",
       "      <td>0</td>\n",
       "      <td>0</td>\n",
       "      <td>0</td>\n",
       "      <td>0</td>\n",
       "      <td>0</td>\n",
       "      <td>0</td>\n",
       "      <td>0</td>\n",
       "      <td>0</td>\n",
       "      <td>0</td>\n",
       "      <td>1</td>\n",
       "      <td>0</td>\n",
       "      <td>0</td>\n",
       "      <td>278166</td>\n",
       "    </tr>\n",
       "    <tr>\n",
       "      <th>1</th>\n",
       "      <td>1.732051</td>\n",
       "      <td>1.508512</td>\n",
       "      <td>0</td>\n",
       "      <td>2.447551</td>\n",
       "      <td>1</td>\n",
       "      <td>0</td>\n",
       "      <td>0</td>\n",
       "      <td>0</td>\n",
       "      <td>0</td>\n",
       "      <td>0</td>\n",
       "      <td>0</td>\n",
       "      <td>0</td>\n",
       "      <td>0</td>\n",
       "      <td>0</td>\n",
       "      <td>0</td>\n",
       "      <td>1</td>\n",
       "      <td>0</td>\n",
       "      <td>2</td>\n",
       "      <td>337701</td>\n",
       "    </tr>\n",
       "    <tr>\n",
       "      <th>2</th>\n",
       "      <td>8.485281</td>\n",
       "      <td>0.641854</td>\n",
       "      <td>1</td>\n",
       "      <td>4.186620</td>\n",
       "      <td>1</td>\n",
       "      <td>0</td>\n",
       "      <td>0</td>\n",
       "      <td>0</td>\n",
       "      <td>1</td>\n",
       "      <td>0</td>\n",
       "      <td>0</td>\n",
       "      <td>0</td>\n",
       "      <td>0</td>\n",
       "      <td>0</td>\n",
       "      <td>0</td>\n",
       "      <td>0</td>\n",
       "      <td>0</td>\n",
       "      <td>1</td>\n",
       "      <td>267099</td>\n",
       "    </tr>\n",
       "    <tr>\n",
       "      <th>3</th>\n",
       "      <td>1.732051</td>\n",
       "      <td>1.004302</td>\n",
       "      <td>0</td>\n",
       "      <td>1.822935</td>\n",
       "      <td>1</td>\n",
       "      <td>0</td>\n",
       "      <td>0</td>\n",
       "      <td>0</td>\n",
       "      <td>0</td>\n",
       "      <td>0</td>\n",
       "      <td>0</td>\n",
       "      <td>0</td>\n",
       "      <td>0</td>\n",
       "      <td>0</td>\n",
       "      <td>0</td>\n",
       "      <td>1</td>\n",
       "      <td>0</td>\n",
       "      <td>2</td>\n",
       "      <td>380478</td>\n",
       "    </tr>\n",
       "    <tr>\n",
       "      <th>4</th>\n",
       "      <td>1.732051</td>\n",
       "      <td>1.481605</td>\n",
       "      <td>0</td>\n",
       "      <td>2.415914</td>\n",
       "      <td>1</td>\n",
       "      <td>0</td>\n",
       "      <td>0</td>\n",
       "      <td>0</td>\n",
       "      <td>0</td>\n",
       "      <td>0</td>\n",
       "      <td>0</td>\n",
       "      <td>0</td>\n",
       "      <td>0</td>\n",
       "      <td>0</td>\n",
       "      <td>0</td>\n",
       "      <td>1</td>\n",
       "      <td>0</td>\n",
       "      <td>2</td>\n",
       "      <td>Unknown_ID</td>\n",
       "    </tr>\n",
       "  </tbody>\n",
       "</table>\n",
       "</div>"
      ],
      "text/plain": [
       "   NumberOfItemsPurchased  CostPerItem  YOT  total_spent  returning_customer  \\\n",
       "0                2.449490     2.543961    1     4.268018                   1   \n",
       "1                1.732051     1.508512    0     2.447551                   1   \n",
       "2                8.485281     0.641854    1     4.186620                   1   \n",
       "3                1.732051     1.004302    0     1.822935                   1   \n",
       "4                1.732051     1.481605    0     2.415914                   1   \n",
       "\n",
       "   Australia  Belgium  EIRE  France  Germany  Netherlands  Norway  Portugal  \\\n",
       "0          0        0     0       0        0            0       0         0   \n",
       "1          0        0     0       0        0            0       0         0   \n",
       "2          0        0     0       1        0            0       0         0   \n",
       "3          0        0     0       0        0            0       0         0   \n",
       "4          0        0     0       0        0            0       0         0   \n",
       "\n",
       "   Spain  Switzerland  United Kingdom  others  cluster      UserId  \n",
       "0      0            0               1       0        0      278166  \n",
       "1      0            0               1       0        2      337701  \n",
       "2      0            0               0       0        1      267099  \n",
       "3      0            0               1       0        2      380478  \n",
       "4      0            0               1       0        2  Unknown_ID  "
      ]
     },
     "execution_count": 126,
     "metadata": {},
     "output_type": "execute_result"
    }
   ],
   "source": [
    "frame=pd.concat([frame,user_id],axis=1)\n",
    "frame.head()"
   ]
  },
  {
   "cell_type": "code",
   "execution_count": 127,
   "metadata": {},
   "outputs": [],
   "source": [
    "user_cluster=frame[['UserId','cluster']]"
   ]
  },
  {
   "cell_type": "code",
   "execution_count": 128,
   "metadata": {},
   "outputs": [
    {
     "data": {
      "text/plain": [
       "27788.851922839738"
      ]
     },
     "execution_count": 128,
     "metadata": {},
     "output_type": "execute_result"
    }
   ],
   "source": [
    "kmeans.inertia_"
   ]
  },
  {
   "cell_type": "markdown",
   "metadata": {},
   "source": [
    "# Checking Correlation among variables."
   ]
  },
  {
   "cell_type": "code",
   "execution_count": 129,
   "metadata": {},
   "outputs": [
    {
     "data": {
      "text/plain": [
       "<matplotlib.axes._subplots.AxesSubplot at 0x201ccb45b08>"
      ]
     },
     "execution_count": 129,
     "metadata": {},
     "output_type": "execute_result"
    },
    {
     "data": {
      "image/png": "[encoded data removed]",
      "text/plain": [
       "<Figure size 432x288 with 2 Axes>"
      ]
     },
     "metadata": {
      "needs_background": "light"
     },
     "output_type": "display_data"
    }
   ],
   "source": [
    "sns.heatmap(df.iloc[:,:5].corr(), annot = True) "
   ]
  },
  {
   "cell_type": "code",
   "execution_count": 130,
   "metadata": {},
   "outputs": [
    {
     "data": {
      "text/plain": [
       "NumberOfItemsPurchased    100\n",
       "CostPerItem               230\n",
       "YOT                         2\n",
       "total_spent               986\n",
       "returning_customer          2\n",
       "Australia                   2\n",
       "Belgium                     2\n",
       "EIRE                        2\n",
       "France                      2\n",
       "Germany                     2\n",
       "Netherlands                 2\n",
       "Norway                      2\n",
       "Portugal                    2\n",
       "Spain                       2\n",
       "Switzerland                 2\n",
       "United Kingdom              2\n",
       "others                      2\n",
       "cluster                     6\n",
       "dtype: int64"
      ]
     },
     "execution_count": 130,
     "metadata": {},
     "output_type": "execute_result"
    }
   ],
   "source": [
    "df.nunique()"
   ]
  },
  {
   "cell_type": "markdown",
   "metadata": {},
   "source": [
    "# Dimensionality Reduction using PCA.\n",
    "To perform EDA analysis, we need to reduce dimensionality of multivariate data we have to trivariate/bivairate(2D/3D) data. We can achieve this task using PCA(Principal Component Analysis)."
   ]
  },
  {
   "cell_type": "code",
   "execution_count": 131,
   "metadata": {},
   "outputs": [
    {
     "name": "stdout",
     "output_type": "stream",
     "text": [
      "          0         1\n",
      "0 -2.085909  1.728423\n",
      "1 -2.629858 -1.047539\n",
      "2  4.039351  1.142872\n",
      "3 -2.708629 -1.399330\n",
      "4 -2.633757 -1.065726\n"
     ]
    }
   ],
   "source": [
    "from sklearn.decomposition import PCA\n",
    "pca = PCA(2) \n",
    "pca.fit(df) \n",
    "pca_data = pd.DataFrame(pca.transform(df)) \n",
    "  \n",
    "print(pca_data.head())"
   ]
  },
  {
   "cell_type": "markdown",
   "metadata": {},
   "source": [
    "# Plotting scatterplot to visualize Customer Segmentation."
   ]
  },
  {
   "cell_type": "code",
   "execution_count": 134,
   "metadata": {},
   "outputs": [
    {
     "data": {
      "image/png": "[encoded data removed]",
      "text/plain": [
       "<Figure size 1152x720 with 1 Axes>"
      ]
     },
     "metadata": {
      "needs_background": "light"
     },
     "output_type": "display_data"
    }
   ],
   "source": [
    "plt.figure(figsize=(16,10))\n",
    "for i in range(0, df.shape[0]):\n",
    "    if kmeans.labels_[i] == 1:\n",
    "        c1 = plt.scatter(x=df.loc[i,'NumberOfItemsPurchased'],y=df.loc[i,'total_spent'],s=100,c='r',marker='+',label='Cluster 1')\n",
    "    elif kmeans.labels_[i] == 0:\n",
    "        c2 = plt.scatter(x=df.loc[i,'NumberOfItemsPurchased'],y=df.loc[i,'total_spent'],s=100,c='g',marker='o',label='Cluster 2')\n",
    "    elif kmeans.labels_[i] == 2:\n",
    "        c3 = plt.scatter(x=df.loc[i,'NumberOfItemsPurchased'],y=df.loc[i,'total_spent'],s=100,c='y',marker='*',label='Cluster 3')\n",
    "    elif kmeans.labels_[i] == 3:\n",
    "        c4 = plt.scatter(x=df.loc[i,'NumberOfItemsPurchased'],y=df.loc[i,'total_spent'],s=100,c='b',marker='h',label='Cluster 4')\n",
    "    elif kmeans.labels_[i] == 4:\n",
    "        c5 = plt.scatter(x=df.loc[i,'NumberOfItemsPurchased'],y=df.loc[i,'total_spent'],s=100,c='k',marker='D',label='Cluster 5')\n",
    "    elif kmeans.labels_[i] == 5:\n",
    "        c6 = plt.scatter(x=df.loc[i,'NumberOfItemsPurchased'],y=df.loc[i,'total_spent'],s=100,c='m',marker='v',label='Cluster 6')    \n",
    "plt.title('Clusters of customers')\n",
    "plt.xlabel('Number of items purchased')\n",
    "plt.ylabel('Total Money Spent in each purchase')\n",
    "plt.legend(loc='lower right', labels=['Cluster 1','Cluster 2','Cluster 3','Cluster 4','Cluster 5','Cluster 6'])\n",
    "plt.show()"
   ]
  },
  {
   "cell_type": "markdown",
   "metadata": {},
   "source": [
    "# UserIds belonging to each cluster."
   ]
  },
  {
   "cell_type": "code",
   "execution_count": 133,
   "metadata": {},
   "outputs": [
    {
     "data": {
      "text/html": [
       "<div>\n",
       "<style scoped>\n",
       "    .dataframe tbody tr th:only-of-type {\n",
       "        vertical-align: middle;\n",
       "    }\n",
       "\n",
       "    .dataframe tbody tr th {\n",
       "        vertical-align: top;\n",
       "    }\n",
       "\n",
       "    .dataframe thead th {\n",
       "        text-align: right;\n",
       "    }\n",
       "</style>\n",
       "<table border=\"1\" class=\"dataframe\">\n",
       "  <thead>\n",
       "    <tr style=\"text-align: right;\">\n",
       "      <th></th>\n",
       "      <th>UserId</th>\n",
       "      <th>cluster</th>\n",
       "    </tr>\n",
       "  </thead>\n",
       "  <tbody>\n",
       "    <tr>\n",
       "      <th>0</th>\n",
       "      <td>278166</td>\n",
       "      <td>0</td>\n",
       "    </tr>\n",
       "    <tr>\n",
       "      <th>1</th>\n",
       "      <td>337701</td>\n",
       "      <td>2</td>\n",
       "    </tr>\n",
       "    <tr>\n",
       "      <th>2</th>\n",
       "      <td>267099</td>\n",
       "      <td>1</td>\n",
       "    </tr>\n",
       "    <tr>\n",
       "      <th>3</th>\n",
       "      <td>380478</td>\n",
       "      <td>2</td>\n",
       "    </tr>\n",
       "    <tr>\n",
       "      <th>4</th>\n",
       "      <td>Unknown_ID</td>\n",
       "      <td>2</td>\n",
       "    </tr>\n",
       "    <tr>\n",
       "      <th>5</th>\n",
       "      <td>285957</td>\n",
       "      <td>0</td>\n",
       "    </tr>\n",
       "    <tr>\n",
       "      <th>6</th>\n",
       "      <td>345954</td>\n",
       "      <td>0</td>\n",
       "    </tr>\n",
       "    <tr>\n",
       "      <th>7</th>\n",
       "      <td>Unknown_ID</td>\n",
       "      <td>1</td>\n",
       "    </tr>\n",
       "    <tr>\n",
       "      <th>8</th>\n",
       "      <td>339822</td>\n",
       "      <td>4</td>\n",
       "    </tr>\n",
       "    <tr>\n",
       "      <th>9</th>\n",
       "      <td>328440</td>\n",
       "      <td>4</td>\n",
       "    </tr>\n",
       "    <tr>\n",
       "      <th>10</th>\n",
       "      <td>316848</td>\n",
       "      <td>4</td>\n",
       "    </tr>\n",
       "    <tr>\n",
       "      <th>11</th>\n",
       "      <td>372897</td>\n",
       "      <td>2</td>\n",
       "    </tr>\n",
       "    <tr>\n",
       "      <th>12</th>\n",
       "      <td>364791</td>\n",
       "      <td>2</td>\n",
       "    </tr>\n",
       "    <tr>\n",
       "      <th>13</th>\n",
       "      <td>Unknown_ID</td>\n",
       "      <td>1</td>\n",
       "    </tr>\n",
       "    <tr>\n",
       "      <th>14</th>\n",
       "      <td>321321</td>\n",
       "      <td>0</td>\n",
       "    </tr>\n",
       "    <tr>\n",
       "      <th>15</th>\n",
       "      <td>304353</td>\n",
       "      <td>4</td>\n",
       "    </tr>\n",
       "    <tr>\n",
       "      <th>16</th>\n",
       "      <td>369852</td>\n",
       "      <td>4</td>\n",
       "    </tr>\n",
       "    <tr>\n",
       "      <th>17</th>\n",
       "      <td>Unknown_ID</td>\n",
       "      <td>0</td>\n",
       "    </tr>\n",
       "    <tr>\n",
       "      <th>18</th>\n",
       "      <td>278985</td>\n",
       "      <td>4</td>\n",
       "    </tr>\n",
       "    <tr>\n",
       "      <th>19</th>\n",
       "      <td>331884</td>\n",
       "      <td>1</td>\n",
       "    </tr>\n",
       "    <tr>\n",
       "      <th>20</th>\n",
       "      <td>335580</td>\n",
       "      <td>5</td>\n",
       "    </tr>\n",
       "    <tr>\n",
       "      <th>21</th>\n",
       "      <td>364308</td>\n",
       "      <td>1</td>\n",
       "    </tr>\n",
       "    <tr>\n",
       "      <th>22</th>\n",
       "      <td>262269</td>\n",
       "      <td>0</td>\n",
       "    </tr>\n",
       "    <tr>\n",
       "      <th>23</th>\n",
       "      <td>Unknown_ID</td>\n",
       "      <td>4</td>\n",
       "    </tr>\n",
       "    <tr>\n",
       "      <th>24</th>\n",
       "      <td>Unknown_ID</td>\n",
       "      <td>0</td>\n",
       "    </tr>\n",
       "    <tr>\n",
       "      <th>25</th>\n",
       "      <td>296016</td>\n",
       "      <td>2</td>\n",
       "    </tr>\n",
       "    <tr>\n",
       "      <th>26</th>\n",
       "      <td>373170</td>\n",
       "      <td>0</td>\n",
       "    </tr>\n",
       "    <tr>\n",
       "      <th>27</th>\n",
       "      <td>281568</td>\n",
       "      <td>4</td>\n",
       "    </tr>\n",
       "    <tr>\n",
       "      <th>28</th>\n",
       "      <td>Unknown_ID</td>\n",
       "      <td>0</td>\n",
       "    </tr>\n",
       "    <tr>\n",
       "      <th>29</th>\n",
       "      <td>364266</td>\n",
       "      <td>2</td>\n",
       "    </tr>\n",
       "    <tr>\n",
       "      <th>30</th>\n",
       "      <td>Unknown_ID</td>\n",
       "      <td>0</td>\n",
       "    </tr>\n",
       "    <tr>\n",
       "      <th>31</th>\n",
       "      <td>344253</td>\n",
       "      <td>2</td>\n",
       "    </tr>\n",
       "    <tr>\n",
       "      <th>32</th>\n",
       "      <td>322371</td>\n",
       "      <td>0</td>\n",
       "    </tr>\n",
       "    <tr>\n",
       "      <th>33</th>\n",
       "      <td>366051</td>\n",
       "      <td>0</td>\n",
       "    </tr>\n",
       "    <tr>\n",
       "      <th>34</th>\n",
       "      <td>291753</td>\n",
       "      <td>0</td>\n",
       "    </tr>\n",
       "    <tr>\n",
       "      <th>35</th>\n",
       "      <td>355383</td>\n",
       "      <td>4</td>\n",
       "    </tr>\n",
       "    <tr>\n",
       "      <th>36</th>\n",
       "      <td>Unknown_ID</td>\n",
       "      <td>0</td>\n",
       "    </tr>\n",
       "    <tr>\n",
       "      <th>37</th>\n",
       "      <td>Unknown_ID</td>\n",
       "      <td>0</td>\n",
       "    </tr>\n",
       "    <tr>\n",
       "      <th>38</th>\n",
       "      <td>364098</td>\n",
       "      <td>0</td>\n",
       "    </tr>\n",
       "    <tr>\n",
       "      <th>39</th>\n",
       "      <td>380478</td>\n",
       "      <td>2</td>\n",
       "    </tr>\n",
       "    <tr>\n",
       "      <th>40</th>\n",
       "      <td>341355</td>\n",
       "      <td>0</td>\n",
       "    </tr>\n",
       "    <tr>\n",
       "      <th>41</th>\n",
       "      <td>344946</td>\n",
       "      <td>2</td>\n",
       "    </tr>\n",
       "    <tr>\n",
       "      <th>42</th>\n",
       "      <td>271341</td>\n",
       "      <td>1</td>\n",
       "    </tr>\n",
       "    <tr>\n",
       "      <th>43</th>\n",
       "      <td>Unknown_ID</td>\n",
       "      <td>2</td>\n",
       "    </tr>\n",
       "    <tr>\n",
       "      <th>44</th>\n",
       "      <td>259854</td>\n",
       "      <td>1</td>\n",
       "    </tr>\n",
       "    <tr>\n",
       "      <th>45</th>\n",
       "      <td>Unknown_ID</td>\n",
       "      <td>2</td>\n",
       "    </tr>\n",
       "    <tr>\n",
       "      <th>46</th>\n",
       "      <td>336693</td>\n",
       "      <td>2</td>\n",
       "    </tr>\n",
       "    <tr>\n",
       "      <th>47</th>\n",
       "      <td>308280</td>\n",
       "      <td>1</td>\n",
       "    </tr>\n",
       "    <tr>\n",
       "      <th>48</th>\n",
       "      <td>377937</td>\n",
       "      <td>1</td>\n",
       "    </tr>\n",
       "    <tr>\n",
       "      <th>49</th>\n",
       "      <td>318969</td>\n",
       "      <td>1</td>\n",
       "    </tr>\n",
       "  </tbody>\n",
       "</table>\n",
       "</div>"
      ],
      "text/plain": [
       "        UserId  cluster\n",
       "0       278166        0\n",
       "1       337701        2\n",
       "2       267099        1\n",
       "3       380478        2\n",
       "4   Unknown_ID        2\n",
       "5       285957        0\n",
       "6       345954        0\n",
       "7   Unknown_ID        1\n",
       "8       339822        4\n",
       "9       328440        4\n",
       "10      316848        4\n",
       "11      372897        2\n",
       "12      364791        2\n",
       "13  Unknown_ID        1\n",
       "14      321321        0\n",
       "15      304353        4\n",
       "16      369852        4\n",
       "17  Unknown_ID        0\n",
       "18      278985        4\n",
       "19      331884        1\n",
       "20      335580        5\n",
       "21      364308        1\n",
       "22      262269        0\n",
       "23  Unknown_ID        4\n",
       "24  Unknown_ID        0\n",
       "25      296016        2\n",
       "26      373170        0\n",
       "27      281568        4\n",
       "28  Unknown_ID        0\n",
       "29      364266        2\n",
       "30  Unknown_ID        0\n",
       "31      344253        2\n",
       "32      322371        0\n",
       "33      366051        0\n",
       "34      291753        0\n",
       "35      355383        4\n",
       "36  Unknown_ID        0\n",
       "37  Unknown_ID        0\n",
       "38      364098        0\n",
       "39      380478        2\n",
       "40      341355        0\n",
       "41      344946        2\n",
       "42      271341        1\n",
       "43  Unknown_ID        2\n",
       "44      259854        1\n",
       "45  Unknown_ID        2\n",
       "46      336693        2\n",
       "47      308280        1\n",
       "48      377937        1\n",
       "49      318969        1"
      ]
     },
     "execution_count": 133,
     "metadata": {},
     "output_type": "execute_result"
    }
   ],
   "source": [
    "user_cluster.head(50)"
   ]
  },
  {
   "cell_type": "code",
   "execution_count": null,
   "metadata": {},
   "outputs": [],
   "source": []
  }
 ],
 "metadata": {
  "kernelspec": {
   "display_name": "Python 3",
   "language": "python",
   "name": "python3"
  },
  "language_info": {
   "codemirror_mode": {
    "name": "ipython",
    "version": 3
   },
   "file_extension": ".py",
   "mimetype": "text/x-python",
   "name": "python",
   "nbconvert_exporter": "python",
   "pygments_lexer": "ipython3",
   "version": "3.7.6"
  }
 },
 "nbformat": 4,
 "nbformat_minor": 4
}
